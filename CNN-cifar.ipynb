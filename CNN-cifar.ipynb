{
 "cells": [
  {
   "cell_type": "code",
   "execution_count": 1,
   "id": "ab2bf1b1",
   "metadata": {},
   "outputs": [
    {
     "data": {
      "text/html": [
       "<style type='text/css'>\n",
       ".CodeMirror{\n",
       "font-family: 'Consolas';\n",
       "font-size: 12px;\n",
       "</style>\n"
      ],
      "text/plain": [
       "<IPython.core.display.HTML object>"
      ]
     },
     "metadata": {},
     "output_type": "display_data"
    }
   ],
   "source": [
    "%%html\n",
    "<style type='text/css'>\n",
    ".CodeMirror{\n",
    "font-family: 'Consolas';\n",
    "font-size: 12px;\n",
    "</style>"
   ]
  },
  {
   "cell_type": "code",
   "execution_count": 2,
   "id": "d027ddaf",
   "metadata": {},
   "outputs": [],
   "source": [
    "import numpy as np\n",
    "import matplotlib.pyplot as plt\n",
    "from tensorflow.keras.layers import Input, Conv2D, Dense, Flatten, Dropout, GlobalMaxPooling2D\n",
    "from tensorflow.keras.models import Model\n"
   ]
  },
  {
   "cell_type": "code",
   "execution_count": 3,
   "id": "3febddc7",
   "metadata": {},
   "outputs": [],
   "source": [
    "import tensorflow as tf\n",
    "cifar10 = tf.keras.datasets.cifar10"
   ]
  },
  {
   "cell_type": "code",
   "execution_count": 5,
   "id": "b8282b20",
   "metadata": {},
   "outputs": [
    {
     "name": "stdout",
     "output_type": "stream",
     "text": [
      "Downloading data from https://www.cs.toronto.edu/~kriz/cifar-10-python.tar.gz\n",
      "170500096/170498071 [==============================] - 337s 2us/step\n",
      "170508288/170498071 [==============================] - 337s 2us/step\n",
      "(50000, 32, 32, 3) (50000, 1)\n",
      "(50000,)\n"
     ]
    }
   ],
   "source": [
    "(x_train, y_train), (x_test, y_test) = cifar10.load_data()\n",
    "x_train, x_test = x_train / 255.0, x_test / 255.0\n",
    "print(x_train.shape, y_train.shape)\n",
    "y_train, y_test = y_train.flatten(), y_test.flatten()\n",
    "print(y_train.shape)"
   ]
  },
  {
   "cell_type": "code",
   "execution_count": 6,
   "id": "5bea190b",
   "metadata": {},
   "outputs": [
    {
     "name": "stdout",
     "output_type": "stream",
     "text": [
      "10\n"
     ]
    }
   ],
   "source": [
    "K = len(set(y_train.flatten()))\n",
    "print(K)\n"
   ]
  },
  {
   "cell_type": "code",
   "execution_count": 7,
   "id": "fc34a57a",
   "metadata": {},
   "outputs": [],
   "source": [
    "i = Input(shape=x_train[0].shape)\n",
    "x = Conv2D(32, (3,3), strides=2, activation='relu')(i)\n",
    "x = Conv2D(64, (3,3), strides=2, activation='relu')(x)\n",
    "x = Conv2D(128, (3,3), strides=2, activation='relu')(x)\n",
    "x = Flatten()(x)\n",
    "x = Dropout(0.5)(x)\n",
    "x = Dense(1024, activation='relu')(x)\n",
    "x = Dropout(0.2)(x)\n",
    "x = Dense(K, activation='softmax')(x)\n"
   ]
  },
  {
   "cell_type": "code",
   "execution_count": 8,
   "id": "0fb0416d",
   "metadata": {},
   "outputs": [],
   "source": [
    "model = Model(i,x)"
   ]
  },
  {
   "cell_type": "code",
   "execution_count": 9,
   "id": "67115df0",
   "metadata": {},
   "outputs": [],
   "source": [
    "model.compile(optimizer='adam', loss='sparse_categorical_crossentropy', metrics=['accuracy'])"
   ]
  },
  {
   "cell_type": "code",
   "execution_count": 10,
   "id": "294a9086",
   "metadata": {},
   "outputs": [
    {
     "name": "stdout",
     "output_type": "stream",
     "text": [
      "Epoch 1/15\n",
      "1563/1563 [==============================] - 24s 3ms/step - loss: 1.5874 - accuracy: 0.4161 - val_loss: 1.3436 - val_accuracy: 0.5006\n",
      "Epoch 2/15\n",
      "1563/1563 [==============================] - 5s 3ms/step - loss: 1.3048 - accuracy: 0.5280 - val_loss: 1.1691 - val_accuracy: 0.5778\n",
      "Epoch 3/15\n",
      "1563/1563 [==============================] - 5s 3ms/step - loss: 1.1738 - accuracy: 0.5763 - val_loss: 1.0551 - val_accuracy: 0.6227\n",
      "Epoch 4/15\n",
      "1563/1563 [==============================] - 5s 3ms/step - loss: 1.0868 - accuracy: 0.6103 - val_loss: 1.0177 - val_accuracy: 0.6365\n",
      "Epoch 5/15\n",
      "1563/1563 [==============================] - 5s 3ms/step - loss: 1.0128 - accuracy: 0.6402 - val_loss: 0.9927 - val_accuracy: 0.6463\n",
      "Epoch 6/15\n",
      "1563/1563 [==============================] - 5s 3ms/step - loss: 0.9500 - accuracy: 0.6611 - val_loss: 0.9290 - val_accuracy: 0.6723\n",
      "Epoch 7/15\n",
      "1563/1563 [==============================] - 5s 3ms/step - loss: 0.9017 - accuracy: 0.6808 - val_loss: 0.9086 - val_accuracy: 0.6835\n",
      "Epoch 8/15\n",
      "1563/1563 [==============================] - 5s 3ms/step - loss: 0.8547 - accuracy: 0.6966 - val_loss: 0.8945 - val_accuracy: 0.6887\n",
      "Epoch 9/15\n",
      "1563/1563 [==============================] - 5s 3ms/step - loss: 0.8100 - accuracy: 0.7124 - val_loss: 0.8962 - val_accuracy: 0.6882\n",
      "Epoch 10/15\n",
      "1563/1563 [==============================] - 5s 3ms/step - loss: 0.7728 - accuracy: 0.7270 - val_loss: 0.8596 - val_accuracy: 0.7061\n",
      "Epoch 11/15\n",
      "1563/1563 [==============================] - 5s 3ms/step - loss: 0.7426 - accuracy: 0.7359 - val_loss: 0.8415 - val_accuracy: 0.7097\n",
      "Epoch 12/15\n",
      "1563/1563 [==============================] - 5s 3ms/step - loss: 0.7207 - accuracy: 0.7417 - val_loss: 0.8396 - val_accuracy: 0.7144\n",
      "Epoch 13/15\n",
      "1563/1563 [==============================] - 5s 3ms/step - loss: 0.6921 - accuracy: 0.7532 - val_loss: 0.8299 - val_accuracy: 0.7158\n",
      "Epoch 14/15\n",
      "1563/1563 [==============================] - 5s 3ms/step - loss: 0.6630 - accuracy: 0.7643 - val_loss: 0.8453 - val_accuracy: 0.7104\n",
      "Epoch 15/15\n",
      "1563/1563 [==============================] - 5s 3ms/step - loss: 0.6439 - accuracy: 0.7729 - val_loss: 0.8299 - val_accuracy: 0.7145\n"
     ]
    }
   ],
   "source": [
    "r = model.fit(x_train, y_train, validation_data=(x_test, y_test), epochs=15)"
   ]
  },
  {
   "cell_type": "code",
   "execution_count": 11,
   "id": "10cf991c",
   "metadata": {},
   "outputs": [
    {
     "data": {
      "text/plain": [
       "<matplotlib.legend.Legend at 0x2469e3dd640>"
      ]
     },
     "execution_count": 11,
     "metadata": {},
     "output_type": "execute_result"
    },
    {
     "data": {
      "image/png": "[encoded data removed]",
      "text/plain": [
       "<Figure size 432x288 with 1 Axes>"
      ]
     },
     "metadata": {
      "needs_background": "light"
     },
     "output_type": "display_data"
    }
   ],
   "source": [
    "import matplotlib.pyplot as plt\n",
    "plt.plot(r.history['loss'], label='loss')\n",
    "plt.plot(r.history['val_loss'], label='val_loss')\n",
    "plt.legend()"
   ]
  },
  {
   "cell_type": "code",
   "execution_count": 12,
   "id": "cd2c8bee",
   "metadata": {},
   "outputs": [
    {
     "data": {
      "text/plain": [
       "<matplotlib.legend.Legend at 0x2469e7c4ca0>"
      ]
     },
     "execution_count": 12,
     "metadata": {},
     "output_type": "execute_result"
    },
    {
     "data": {
      "image/png": "[encoded data removed]",
      "text/plain": [
       "<Figure size 432x288 with 1 Axes>"
      ]
     },
     "metadata": {
      "needs_background": "light"
     },
     "output_type": "display_data"
    }
   ],
   "source": [
    "plt.plot(r.history['accuracy'], label='accuracy')\n",
    "plt.plot(r.history['val_accuracy'], label='val_acc')\n",
    "plt.legend()"
   ]
  }
 ],
 "metadata": {
  "kernelspec": {
   "display_name": "Python 3 (ipykernel)",
   "language": "python",
   "name": "python3"
  },
  "language_info": {
   "codemirror_mode": {
    "name": "ipython",
    "version": 3
   },
   "file_extension": ".py",
   "mimetype": "text/x-python",
   "name": "python",
   "nbconvert_exporter": "python",
   "pygments_lexer": "ipython3",
   "version": "3.9.10"
  }
 },
 "nbformat": 4,
 "nbformat_minor": 5
}
